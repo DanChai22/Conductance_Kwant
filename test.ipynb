{
 "cells": [
  {
   "cell_type": "code",
   "execution_count": 2,
   "metadata": {},
   "outputs": [],
   "source": [
    "import numpy as np\n",
    "import kwant\n",
    "import PauliMatrices as PM\n",
    "from math import pi\n",
    "from cmath import sqrt"
   ]
  },
  {
   "cell_type": "code",
   "execution_count": 30,
   "metadata": {},
   "outputs": [],
   "source": [
    "a=1;\n",
    "t=25/a/a;\n",
    "alpha=5/(2*a);\n",
    "Delta_0=.2;\n",
    "mu=0.2;\n",
    "wireLength=100;\n",
    "Vz=0;\n",
    "Gamma=1e-5;Nbarrier=2;Ebarrier=10;"
   ]
  },
  {
   "cell_type": "code",
   "execution_count": 7,
   "metadata": {},
   "outputs": [],
   "source": [
    "np.warnings.filterwarnings('ignore');\n",
    "junction=kwant.Builder();\n",
    "lat=kwant.lattice.chain(a);    "
   ]
  },
  {
   "cell_type": "code",
   "execution_count": 12,
   "metadata": {},
   "outputs": [],
   "source": [
    "for x in range(wireLength):\n",
    "            junction[lat(x)]=(-mu+2*t)*PM.tzs0+Delta_0*PM.txs0+Vz*PM.t0sx-1j*Gamma*PM.t0s0;"
   ]
  },
  {
   "cell_type": "code",
   "execution_count": 21,
   "metadata": {},
   "outputs": [
    {
     "data": {
      "text/plain": [
       "array([[ 49.8-1.e-05j,   0. +0.e+00j,   0.2+0.e+00j,   0. +0.e+00j],\n",
       "       [  0. +0.e+00j,  49.8-1.e-05j,   0. +0.e+00j,   0.2+0.e+00j],\n",
       "       [  0.2+0.e+00j,   0. +0.e+00j, -49.8-1.e-05j,   0. +0.e+00j],\n",
       "       [  0. +0.e+00j,   0.2+0.e+00j,   0. +0.e+00j, -49.8-1.e-05j]])"
      ]
     },
     "execution_count": 21,
     "metadata": {},
     "output_type": "execute_result"
    }
   ],
   "source": [
    "junction[lat(0)]"
   ]
  },
  {
   "cell_type": "code",
   "execution_count": 25,
   "metadata": {},
   "outputs": [],
   "source": [
    "for x in range(1,wireLength):\n",
    "            junction[lat(x-1),lat(x)]=-t*PM.tzs0-1j*alpha*PM.tzsy;"
   ]
  },
  {
   "cell_type": "code",
   "execution_count": 33,
   "metadata": {},
   "outputs": [
    {
     "data": {
      "text/plain": [
       "array([[ 59.8,   0. ,   0. ,   0. ],\n",
       "       [  0. ,  59.8,   0. ,   0. ],\n",
       "       [  0. ,   0. , -59.8,   0. ],\n",
       "       [  0. ,   0. ,   0. , -59.8]])"
      ]
     },
     "execution_count": 33,
     "metadata": {},
     "output_type": "execute_result"
    }
   ],
   "source": [
    "junction[lat(0)]"
   ]
  },
  {
   "cell_type": "code",
   "execution_count": 26,
   "metadata": {},
   "outputs": [
    {
     "data": {
      "text/plain": [
       "array([[-25. +0.j,  -2.5+0.j,  -0. +0.j,  -0. +0.j],\n",
       "       [  2.5+0.j, -25. +0.j,  -0. +0.j,  -0. +0.j],\n",
       "       [ -0. +0.j,  -0. +0.j,  25. +0.j,   2.5+0.j],\n",
       "       [ -0. +0.j,  -0. +0.j,  -2.5+0.j,  25. +0.j]])"
      ]
     },
     "execution_count": 26,
     "metadata": {},
     "output_type": "execute_result"
    }
   ],
   "source": [
    "junction[lat(0),lat(1)]"
   ]
  },
  {
   "cell_type": "code",
   "execution_count": 31,
   "metadata": {},
   "outputs": [],
   "source": [
    "for x in range(Nbarrier):\n",
    "            junction[ lat(x) ] = (2*t - mu + Ebarrier)*PM.tzs0 + Vz*PM.t0sx;"
   ]
  },
  {
   "cell_type": "code",
   "execution_count": null,
   "metadata": {},
   "outputs": [],
   "source": []
  }
 ],
 "metadata": {
  "kernelspec": {
   "display_name": "Python 3",
   "language": "python",
   "name": "python3"
  },
  "language_info": {
   "codemirror_mode": {
    "name": "ipython",
    "version": 3
   },
   "file_extension": ".py",
   "mimetype": "text/x-python",
   "name": "python",
   "nbconvert_exporter": "python",
   "pygments_lexer": "ipython3",
   "version": "3.6.4"
  }
 },
 "nbformat": 4,
 "nbformat_minor": 2
}
