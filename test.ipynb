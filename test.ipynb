{
 "cells": [
  {
   "cell_type": "code",
   "execution_count": 11,
   "metadata": {},
   "outputs": [],
   "source": [
    "import numpy as np\n",
    "import kwant\n",
    "import PauliMatrices as PM\n",
    "from math import pi\n",
    "from cmath import sqrt"
   ]
  },
  {
   "cell_type": "code",
   "execution_count": 34,
   "metadata": {},
   "outputs": [],
   "source": [
    "a=1;\n",
    "t=25/a/a;\n",
    "alpha=5/(2*a);\n",
    "Delta_0=.2;\n",
    "mu=0.2;\n",
    "wireLength=100;\n",
    "Vz=0;\n",
    "Gamma=1e-5;Nbarrier=2;Ebarrier=10;mumax=1;"
   ]
  },
  {
   "cell_type": "code",
   "execution_count": 7,
   "metadata": {},
   "outputs": [],
   "source": [
    "np.warnings.filterwarnings('ignore');\n",
    "junction=kwant.Builder();\n",
    "lat=kwant.lattice.chain(a);    "
   ]
  },
  {
   "cell_type": "code",
   "execution_count": 12,
   "metadata": {},
   "outputs": [],
   "source": [
    "for x in range(wireLength):\n",
    "            junction[lat(x)]=(-mu+2*t)*PM.tzs0+Delta_0*PM.txs0+Vz*PM.t0sx-1j*Gamma*PM.t0s0;"
   ]
  },
  {
   "cell_type": "code",
   "execution_count": 21,
   "metadata": {},
   "outputs": [
    {
     "data": {
      "text/plain": [
       "array([[ 49.8-1.e-05j,   0. +0.e+00j,   0.2+0.e+00j,   0. +0.e+00j],\n",
       "       [  0. +0.e+00j,  49.8-1.e-05j,   0. +0.e+00j,   0.2+0.e+00j],\n",
       "       [  0.2+0.e+00j,   0. +0.e+00j, -49.8-1.e-05j,   0. +0.e+00j],\n",
       "       [  0. +0.e+00j,   0.2+0.e+00j,   0. +0.e+00j, -49.8-1.e-05j]])"
      ]
     },
     "execution_count": 21,
     "metadata": {},
     "output_type": "execute_result"
    }
   ],
   "source": [
    "junction[lat(0)]"
   ]
  },
  {
   "cell_type": "code",
   "execution_count": 25,
   "metadata": {},
   "outputs": [],
   "source": [
    "for x in range(1,wireLength):\n",
    "            junction[lat(x-1),lat(x)]=-t*PM.tzs0-1j*alpha*PM.tzsy;"
   ]
  },
  {
   "cell_type": "code",
   "execution_count": 33,
   "metadata": {},
   "outputs": [
    {
     "data": {
      "text/plain": [
       "array([[ 59.8,   0. ,   0. ,   0. ],\n",
       "       [  0. ,  59.8,   0. ,   0. ],\n",
       "       [  0. ,   0. , -59.8,   0. ],\n",
       "       [  0. ,   0. ,   0. , -59.8]])"
      ]
     },
     "execution_count": 33,
     "metadata": {},
     "output_type": "execute_result"
    }
   ],
   "source": [
    "junction[lat(0)]"
   ]
  },
  {
   "cell_type": "code",
   "execution_count": 26,
   "metadata": {},
   "outputs": [
    {
     "data": {
      "text/plain": [
       "array([[-25. +0.j,  -2.5+0.j,  -0. +0.j,  -0. +0.j],\n",
       "       [  2.5+0.j, -25. +0.j,  -0. +0.j,  -0. +0.j],\n",
       "       [ -0. +0.j,  -0. +0.j,  25. +0.j,   2.5+0.j],\n",
       "       [ -0. +0.j,  -0. +0.j,  -2.5+0.j,  25. +0.j]])"
      ]
     },
     "execution_count": 26,
     "metadata": {},
     "output_type": "execute_result"
    }
   ],
   "source": [
    "junction[lat(0),lat(1)]"
   ]
  },
  {
   "cell_type": "code",
   "execution_count": 31,
   "metadata": {},
   "outputs": [],
   "source": [
    "for x in range(Nbarrier):\n",
    "            junction[ lat(x) ] = (2*t - mu + Ebarrier)*PM.tzs0 + Vz*PM.t0sx;"
   ]
  },
  {
   "cell_type": "code",
   "execution_count": 385,
   "metadata": {},
   "outputs": [],
   "source": [
    "muset=mu+mumax*1/(np.exp(wireLength-np.arange(wireLength)-.5*wireLength)+1)"
   ]
  },
  {
   "cell_type": "code",
   "execution_count": 417,
   "metadata": {},
   "outputs": [],
   "source": [
    "muset=l2(np.arange(wireLength))"
   ]
  },
  {
   "cell_type": "code",
   "execution_count": 341,
   "metadata": {},
   "outputs": [],
   "source": [
    "muset=-(mumax*1.0/((np.arange(wireLength)-.25*wireLength)**2+2)+(4-mu)/2./(np.exp(-1*(np.arange(wireLength)-0.5*wireLength))+1))+mu"
   ]
  },
  {
   "cell_type": "code",
   "execution_count": 384,
   "metadata": {},
   "outputs": [],
   "source": [
    "mumax=1;mu=1;"
   ]
  },
  {
   "cell_type": "code",
   "execution_count": 57,
   "metadata": {},
   "outputs": [],
   "source": [
    "import matplotlib.pyplot as plt"
   ]
  },
  {
   "cell_type": "code",
   "execution_count": 418,
   "metadata": {},
   "outputs": [
    {
     "data": {
      "text/plain": [
       "[<matplotlib.lines.Line2D at 0x1e4d136b7f0>]"
      ]
     },
     "execution_count": 418,
     "metadata": {},
     "output_type": "execute_result"
    },
    {
     "data": {
      "image/png": "[encoded data removed]",
      "text/plain": [
       "<Figure size 432x288 with 1 Axes>"
      ]
     },
     "metadata": {},
     "output_type": "display_data"
    }
   ],
   "source": [
    "plt.plot(np.arange(wireLength),muset)"
   ]
  },
  {
   "cell_type": "code",
   "execution_count": 387,
   "metadata": {},
   "outputs": [],
   "source": [
    "l"
   ]
  },
  {
   "cell_type": "code",
   "execution_count": 401,
   "metadata": {},
   "outputs": [
    {
     "data": {
      "text/plain": [
       "(<function __main__.<lambda>>,)"
      ]
     },
     "execution_count": 401,
     "metadata": {},
     "output_type": "execute_result"
    }
   ],
   "source": [
    "l2"
   ]
  },
  {
   "cell_type": "code",
   "execution_count": 416,
   "metadata": {},
   "outputs": [],
   "source": [
    "l2=lambda x: mu+mumax*1/(np.exp((wireLength-x-.5*wireLength)/(10))+1)"
   ]
  },
  {
   "cell_type": "code",
   "execution_count": 391,
   "metadata": {},
   "outputs": [
    {
     "data": {
      "text/plain": [
       "4"
      ]
     },
     "execution_count": 391,
     "metadata": {},
     "output_type": "execute_result"
    }
   ],
   "source": [
    "z2"
   ]
  },
  {
   "cell_type": "code",
   "execution_count": 331,
   "metadata": {},
   "outputs": [
    {
     "data": {
      "text/plain": [
       "array([0.2, 0.2, 0.2, 0.2, 0.2, 0.2, 0.2, 0.2, 0.2, 0.2])"
      ]
     },
     "execution_count": 331,
     "metadata": {},
     "output_type": "execute_result"
    }
   ],
   "source": [
    "ll(np.arange(10))"
   ]
  },
  {
   "cell_type": "code",
   "execution_count": 332,
   "metadata": {},
   "outputs": [
    {
     "data": {
      "text/plain": [
       "array([0, 1, 2, 3, 4, 5, 6, 7, 8, 9])"
      ]
     },
     "execution_count": 332,
     "metadata": {},
     "output_type": "execute_result"
    }
   ],
   "source": [
    "np.arange(10)"
   ]
  },
  {
   "cell_type": "code",
   "execution_count": 334,
   "metadata": {},
   "outputs": [
    {
     "data": {
      "text/plain": [
       "1"
      ]
     },
     "execution_count": 334,
     "metadata": {},
     "output_type": "execute_result"
    }
   ],
   "source": [
    "0**0"
   ]
  },
  {
   "cell_type": "code",
   "execution_count": 83,
   "metadata": {},
   "outputs": [],
   "source": [
    "symLeft=kwant.TranslationalSymmetry([-a]);\n",
    "symRight=kwant.TranslationalSymmetry([a]);"
   ]
  },
  {
   "cell_type": "code",
   "execution_count": 88,
   "metadata": {},
   "outputs": [],
   "source": [
    "leadl=kwant.Builder(symLeft)"
   ]
  },
  {
   "cell_type": "code",
   "execution_count": 91,
   "metadata": {},
   "outputs": [],
   "source": [
    "leadr=kwant.Builder(symRight)"
   ]
  },
  {
   "cell_type": "code",
   "execution_count": 98,
   "metadata": {},
   "outputs": [],
   "source": [
    "leadl[ lat(0) ] = (2*t - 2)*PM.tzs0 + Vz*PM.t0sx;leadl[ lat(0), lat(1) ] = -t*PM.tzs0 - 1j*alpha*PM.tzsy;"
   ]
  },
  {
   "cell_type": "code",
   "execution_count": 101,
   "metadata": {},
   "outputs": [],
   "source": [
    "leadr[ lat(0) ] = (2*t - 2)*PM.tzs0 + Vz*PM.t0sx;leadr[ lat(0), lat(1) ] = -t*PM.tzs0 - 1j*alpha*PM.tzsy;"
   ]
  },
  {
   "cell_type": "code",
   "execution_count": 100,
   "metadata": {},
   "outputs": [],
   "source": [
    "junction.attach_lead(leadl);"
   ]
  },
  {
   "cell_type": "code",
   "execution_count": 109,
   "metadata": {},
   "outputs": [],
   "source": [
    "junction.attach_lead(leadr);"
   ]
  },
  {
   "cell_type": "code",
   "execution_count": 107,
   "metadata": {},
   "outputs": [
    {
     "ename": "NameError",
     "evalue": "name 'sym' is not defined",
     "output_type": "error",
     "traceback": [
      "\u001b[1;31m---------------------------------------------------------------------------\u001b[0m",
      "\u001b[1;31mNameError\u001b[0m                                 Traceback (most recent call last)",
      "\u001b[1;32m<ipython-input-107-cbc7be92562f>\u001b[0m in \u001b[0;36m<module>\u001b[1;34m()\u001b[0m\n\u001b[1;32m----> 1\u001b[1;33m \u001b[0msym\u001b[0m\u001b[1;33m\u001b[0m\u001b[0m\n\u001b[0m",
      "\u001b[1;31mNameError\u001b[0m: name 'sym' is not defined"
     ]
    }
   ],
   "source": [
    "sym"
   ]
  },
  {
   "cell_type": "code",
   "execution_count": 110,
   "metadata": {},
   "outputs": [
    {
     "data": {
      "image/png": "[encoded data removed]",
      "text/plain": [
       "<Figure size 432x288 with 1 Axes>"
      ]
     },
     "metadata": {},
     "output_type": "display_data"
    },
    {
     "data": {
      "image/png": "[encoded data removed]",
      "text/plain": [
       "<Figure size 432x288 with 1 Axes>"
      ]
     },
     "execution_count": 110,
     "metadata": {},
     "output_type": "execute_result"
    }
   ],
   "source": [
    "kwant.plot(junction)"
   ]
  },
  {
   "cell_type": "code",
   "execution_count": 113,
   "metadata": {},
   "outputs": [
    {
     "data": {
      "text/plain": [
       "array([[ 49.8-1.e-05j,   0. +0.e+00j,   0.2+0.e+00j,   0. +0.e+00j],\n",
       "       [  0. +0.e+00j,  49.8-1.e-05j,   0. +0.e+00j,   0.2+0.e+00j],\n",
       "       [  0.2+0.e+00j,   0. +0.e+00j, -49.8-1.e-05j,   0. +0.e+00j],\n",
       "       [  0. +0.e+00j,   0.2+0.e+00j,   0. +0.e+00j, -49.8-1.e-05j]])"
      ]
     },
     "execution_count": 113,
     "metadata": {},
     "output_type": "execute_result"
    }
   ],
   "source": [
    "junction[lat(2)]"
   ]
  },
  {
   "cell_type": "code",
   "execution_count": 133,
   "metadata": {},
   "outputs": [
    {
     "name": "stdout",
     "output_type": "stream",
     "text": [
      "99\n",
      "98\n"
     ]
    }
   ],
   "source": [
    "for x in range(2):\n",
    "    print(int(-0.5+((leadpos==0)-(leadpos==1))*(x+1))%wireLength)"
   ]
  },
  {
   "cell_type": "markdown",
   "metadata": {},
   "source": [
    "15%2"
   ]
  },
  {
   "cell_type": "code",
   "execution_count": 132,
   "metadata": {},
   "outputs": [],
   "source": [
    "leadpos=1"
   ]
  },
  {
   "cell_type": "code",
   "execution_count": 121,
   "metadata": {},
   "outputs": [
    {
     "data": {
      "text/plain": [
       "-1"
      ]
     },
     "execution_count": 121,
     "metadata": {},
     "output_type": "execute_result"
    }
   ],
   "source": [
    "int(-1.2)"
   ]
  },
  {
   "cell_type": "code",
   "execution_count": 134,
   "metadata": {},
   "outputs": [
    {
     "ename": "ValueError",
     "evalue": "operands could not be broadcast together with shapes (10,) (4,4) ",
     "output_type": "error",
     "traceback": [
      "\u001b[1;31m---------------------------------------------------------------------------\u001b[0m",
      "\u001b[1;31mValueError\u001b[0m                                Traceback (most recent call last)",
      "\u001b[1;32m<ipython-input-134-67a3cd4791bf>\u001b[0m in \u001b[0;36m<module>\u001b[1;34m()\u001b[0m\n\u001b[1;32m----> 1\u001b[1;33m \u001b[0mnp\u001b[0m\u001b[1;33m.\u001b[0m\u001b[0mones\u001b[0m\u001b[1;33m(\u001b[0m\u001b[1;36m10\u001b[0m\u001b[1;33m)\u001b[0m\u001b[1;33m*\u001b[0m\u001b[0mDelta_0\u001b[0m\u001b[1;33m*\u001b[0m\u001b[0mPM\u001b[0m\u001b[1;33m.\u001b[0m\u001b[0mtxs0\u001b[0m\u001b[1;33m\u001b[0m\u001b[0m\n\u001b[0m",
      "\u001b[1;31mValueError\u001b[0m: operands could not be broadcast together with shapes (10,) (4,4) "
     ]
    }
   ],
   "source": [
    "np.ones(10)*Delta_0*PM.txs0"
   ]
  },
  {
   "cell_type": "code",
   "execution_count": 139,
   "metadata": {},
   "outputs": [],
   "source": [
    "N=2.;"
   ]
  },
  {
   "cell_type": "code",
   "execution_count": 140,
   "metadata": {},
   "outputs": [
    {
     "ename": "AttributeError",
     "evalue": "'int' object has no attribute 'reshape'",
     "output_type": "error",
     "traceback": [
      "\u001b[1;31m---------------------------------------------------------------------------\u001b[0m",
      "\u001b[1;31mAttributeError\u001b[0m                            Traceback (most recent call last)",
      "\u001b[1;32m<ipython-input-140-99519fee6a1d>\u001b[0m in \u001b[0;36m<module>\u001b[1;34m()\u001b[0m\n\u001b[1;32m----> 1\u001b[1;33m \u001b[0mx\u001b[0m\u001b[1;33m.\u001b[0m\u001b[0mreshape\u001b[0m\u001b[1;33m(\u001b[0m\u001b[1;33m(\u001b[0m\u001b[0mN\u001b[0m\u001b[1;33m,\u001b[0m \u001b[0mN\u001b[0m\u001b[1;33m)\u001b[0m\u001b[1;33m)\u001b[0m\u001b[1;33m\u001b[0m\u001b[0m\n\u001b[0m",
      "\u001b[1;31mAttributeError\u001b[0m: 'int' object has no attribute 'reshape'"
     ]
    }
   ],
   "source": [
    "x.reshape((N, N))"
   ]
  },
  {
   "cell_type": "code",
   "execution_count": 190,
   "metadata": {},
   "outputs": [],
   "source": [
    "x=np.linspace(0,10,10)"
   ]
  },
  {
   "cell_type": "code",
   "execution_count": 145,
   "metadata": {},
   "outputs": [],
   "source": [
    "x = np.random.normal(size=500)\n",
    "y = x * 3 + np.random.normal(size=500)\n"
   ]
  },
  {
   "cell_type": "code",
   "execution_count": 229,
   "metadata": {},
   "outputs": [],
   "source": [
    "nbins=300\n",
    "xi, yi = np.mgrid[x.min():x.max():nbins*1j, x.min():x.max():2*nbins*1j]\n"
   ]
  },
  {
   "cell_type": "code",
   "execution_count": 230,
   "metadata": {},
   "outputs": [],
   "source": [
    "z=xi+yi"
   ]
  },
  {
   "cell_type": "code",
   "execution_count": 415,
   "metadata": {},
   "outputs": [
    {
     "data": {
      "text/plain": [
       "<matplotlib.colorbar.Colorbar at 0x1e4d13077f0>"
      ]
     },
     "execution_count": 415,
     "metadata": {},
     "output_type": "execute_result"
    },
    {
     "data": {
      "image/png": "[encoded data removed]",
      "text/plain": [
       "<Figure size 432x288 with 2 Axes>"
      ]
     },
     "metadata": {},
     "output_type": "display_data"
    }
   ],
   "source": [
    "plt.pcolormesh(xi,yi,z, cmap='coolwarm');plt.colorbar()"
   ]
  },
  {
   "cell_type": "code",
   "execution_count": 205,
   "metadata": {},
   "outputs": [
    {
     "data": {
      "text/plain": [
       "(300, 300)"
      ]
     },
     "execution_count": 205,
     "metadata": {},
     "output_type": "execute_result"
    }
   ],
   "source": [
    "yi.shape"
   ]
  },
  {
   "cell_type": "code",
   "execution_count": 198,
   "metadata": {},
   "outputs": [
    {
     "data": {
      "text/plain": [
       "array([[[0., 0., 0., 0., 0., 0., 0., 0., 0., 0.],\n",
       "        [1., 1., 1., 1., 1., 1., 1., 1., 1., 1.],\n",
       "        [2., 2., 2., 2., 2., 2., 2., 2., 2., 2.],\n",
       "        [3., 3., 3., 3., 3., 3., 3., 3., 3., 3.],\n",
       "        [4., 4., 4., 4., 4., 4., 4., 4., 4., 4.],\n",
       "        [5., 5., 5., 5., 5., 5., 5., 5., 5., 5.],\n",
       "        [6., 6., 6., 6., 6., 6., 6., 6., 6., 6.],\n",
       "        [7., 7., 7., 7., 7., 7., 7., 7., 7., 7.],\n",
       "        [8., 8., 8., 8., 8., 8., 8., 8., 8., 8.],\n",
       "        [9., 9., 9., 9., 9., 9., 9., 9., 9., 9.]],\n",
       "\n",
       "       [[0., 1., 2., 3., 4., 5., 6., 7., 8., 9.],\n",
       "        [0., 1., 2., 3., 4., 5., 6., 7., 8., 9.],\n",
       "        [0., 1., 2., 3., 4., 5., 6., 7., 8., 9.],\n",
       "        [0., 1., 2., 3., 4., 5., 6., 7., 8., 9.],\n",
       "        [0., 1., 2., 3., 4., 5., 6., 7., 8., 9.],\n",
       "        [0., 1., 2., 3., 4., 5., 6., 7., 8., 9.],\n",
       "        [0., 1., 2., 3., 4., 5., 6., 7., 8., 9.],\n",
       "        [0., 1., 2., 3., 4., 5., 6., 7., 8., 9.],\n",
       "        [0., 1., 2., 3., 4., 5., 6., 7., 8., 9.],\n",
       "        [0., 1., 2., 3., 4., 5., 6., 7., 8., 9.]]])"
      ]
     },
     "execution_count": 198,
     "metadata": {},
     "output_type": "execute_result"
    }
   ],
   "source": [
    "np.mgrid[x[0]:x[-1],x[0]:x[-1]]"
   ]
  },
  {
   "cell_type": "code",
   "execution_count": 197,
   "metadata": {},
   "outputs": [
    {
     "data": {
      "text/plain": [
       "array([ 0.        ,  1.11111111,  2.22222222,  3.33333333,  4.44444444,\n",
       "        5.55555556,  6.66666667,  7.77777778,  8.88888889, 10.        ])"
      ]
     },
     "execution_count": 197,
     "metadata": {},
     "output_type": "execute_result"
    }
   ],
   "source": [
    "x"
   ]
  },
  {
   "cell_type": "code",
   "execution_count": 234,
   "metadata": {},
   "outputs": [
    {
     "data": {
      "image/png": "[encoded data removed]",
      "text/plain": [
       "<Figure size 432x288 with 1 Axes>"
      ]
     },
     "metadata": {},
     "output_type": "display_data"
    }
   ],
   "source": [
    "fig=plt.pcolormesh(xi, yi, z.reshape(xi.shape), cmap=plt.cm.Greens_r)\n"
   ]
  },
  {
   "cell_type": "code",
   "execution_count": 220,
   "metadata": {},
   "outputs": [
    {
     "data": {
      "text/plain": [
       "(300, 600)"
      ]
     },
     "execution_count": 220,
     "metadata": {},
     "output_type": "execute_result"
    }
   ],
   "source": [
    "z.shape"
   ]
  },
  {
   "cell_type": "code",
   "execution_count": 235,
   "metadata": {},
   "outputs": [
    {
     "data": {
      "image/png": "[encoded data removed]",
      "text/plain": [
       "<Figure size 432x288 with 2 Axes>"
      ]
     },
     "metadata": {},
     "output_type": "display_data"
    }
   ],
   "source": [
    "plt.pcolormesh(x,x2,np.transpose(z));plt.colorbar();plt.savefig('t.png')"
   ]
  },
  {
   "cell_type": "code",
   "execution_count": 211,
   "metadata": {},
   "outputs": [],
   "source": [
    "x=np.linspace(0,1,300)"
   ]
  },
  {
   "cell_type": "code",
   "execution_count": 212,
   "metadata": {},
   "outputs": [
    {
     "data": {
      "text/plain": [
       "(300,)"
      ]
     },
     "execution_count": 212,
     "metadata": {},
     "output_type": "execute_result"
    }
   ],
   "source": [
    "x.shape"
   ]
  },
  {
   "cell_type": "code",
   "execution_count": 221,
   "metadata": {},
   "outputs": [],
   "source": [
    "x2=np.linspace(1,10,600)"
   ]
  },
  {
   "cell_type": "code",
   "execution_count": 253,
   "metadata": {},
   "outputs": [
    {
     "data": {
      "image/png": "[encoded data removed]",
      "text/plain": [
       "<Figure size 432x288 with 1 Axes>"
      ]
     },
     "metadata": {},
     "output_type": "display_data"
    }
   ],
   "source": [
    "fig = plt.figure()\n",
    "ax = fig.add_subplot(111)\n",
    "ax.plot(range(10))\n",
    "fig.savefig('test.png')"
   ]
  },
  {
   "cell_type": "code",
   "execution_count": 269,
   "metadata": {},
   "outputs": [],
   "source": [
    "result = {\n",
    "    0: lambda x: mu,\n",
    "  'sin': lambda x: np.sin(x*pi/wireLength)*mumax,\n",
    "  'cos': lambda x: np.cos(x*pi/wireLength)*mumax+mumax,\n",
    "  'sinasy': lambda x: np.sin(x*2*pi/wireLength)*mumax+mumax\n",
    "}"
   ]
  },
  {
   "cell_type": "code",
   "execution_count": 254,
   "metadata": {},
   "outputs": [],
   "source": [
    "lam = lambda x: x * 2"
   ]
  },
  {
   "cell_type": "code",
   "execution_count": 255,
   "metadata": {},
   "outputs": [
    {
     "data": {
      "text/plain": [
       "8"
      ]
     },
     "execution_count": 255,
     "metadata": {},
     "output_type": "execute_result"
    }
   ],
   "source": [
    "lam(4)"
   ]
  },
  {
   "cell_type": "code",
   "execution_count": 270,
   "metadata": {},
   "outputs": [
    {
     "data": {
      "text/plain": [
       "0.2"
      ]
     },
     "execution_count": 270,
     "metadata": {},
     "output_type": "execute_result"
    }
   ],
   "source": [
    "result[0](np.arange(10))"
   ]
  },
  {
   "cell_type": "code",
   "execution_count": 409,
   "metadata": {},
   "outputs": [
    {
     "data": {
      "text/plain": [
       "array([0., 1., 2., 3., 4., 5., 6., 7., 8., 9.])"
      ]
     },
     "execution_count": 409,
     "metadata": {},
     "output_type": "execute_result"
    }
   ],
   "source": [
    "np.arange(10.0)"
   ]
  },
  {
   "cell_type": "code",
   "execution_count": 420,
   "metadata": {},
   "outputs": [],
   "source": [
    "var=10"
   ]
  },
  {
   "cell_type": "code",
   "execution_count": 428,
   "metadata": {},
   "outputs": [
    {
     "data": {
      "text/plain": [
       "True"
      ]
     },
     "execution_count": 428,
     "metadata": {},
     "output_type": "execute_result"
    }
   ],
   "source": [
    "(var==1) or (var==10)"
   ]
  },
  {
   "cell_type": "code",
   "execution_count": 427,
   "metadata": {},
   "outputs": [
    {
     "data": {
      "text/plain": [
       "False"
      ]
     },
     "execution_count": 427,
     "metadata": {},
     "output_type": "execute_result"
    }
   ],
   "source": [
    "var==(1 or 10)"
   ]
  },
  {
   "cell_type": "code",
   "execution_count": 1,
   "metadata": {},
   "outputs": [],
   "source": [
    "dict={'a':1,'b':2,'c':0}"
   ]
  },
  {
   "cell_type": "code",
   "execution_count": 7,
   "metadata": {},
   "outputs": [],
   "source": [
    "dict['c']=np.array([1,2])"
   ]
  },
  {
   "cell_type": "code",
   "execution_count": 9,
   "metadata": {},
   "outputs": [
    {
     "data": {
      "text/plain": [
       "array([1, 2])"
      ]
     },
     "execution_count": 9,
     "metadata": {},
     "output_type": "execute_result"
    }
   ],
   "source": [
    "dict['c']"
   ]
  },
  {
   "cell_type": "code",
   "execution_count": 19,
   "metadata": {},
   "outputs": [],
   "source": [
    "tt=np.loadtxt(\"D:\\\\Nanowire\\\\fitexpSA\\\\multiband_matlab\\\\vimp.dat\")"
   ]
  },
  {
   "cell_type": "code",
   "execution_count": 20,
   "metadata": {},
   "outputs": [
    {
     "data": {
      "text/plain": [
       "array([ 6.9133563e-01, -4.6545579e-01, -1.9508913e-01, -1.0205763e-01,\n",
       "       -2.3712965e+00,  2.0472562e+00, -1.1286174e+00, -6.9822045e-01,\n",
       "        1.3191583e+00, -1.2613745e+00,  4.2677988e-01, -7.7449993e-01,\n",
       "        1.7359597e+00,  1.0774156e+00, -1.1085421e-03, -1.2282296e-01,\n",
       "        3.2040494e-01, -5.6964802e-01,  7.5693155e-01,  3.5760750e-02,\n",
       "       -6.9828204e-01, -3.0668483e-01, -8.8900398e-01, -9.8435770e-01,\n",
       "        9.7422018e-02, -6.5699198e-01,  8.8278698e-01, -4.2024710e-01,\n",
       "       -3.4958008e-01,  5.2339478e-01,  4.6278389e-01, -1.4011738e+00,\n",
       "       -8.9893884e-01,  4.4270948e-01, -1.1250993e+00, -5.2395442e-01,\n",
       "        2.3648011e-01,  4.6152056e-01,  8.1815656e-01, -3.6026171e-01,\n",
       "        9.7808057e-02,  1.4929652e+00,  9.9241879e-01, -1.6195296e+00,\n",
       "        2.8546378e-01,  6.3040667e-02,  3.5938470e-01, -4.9699797e-01,\n",
       "       -4.3534584e-01,  1.1606328e+00,  1.5662228e+00, -5.3189832e-01,\n",
       "       -4.0586958e-01, -1.8166722e-01,  7.5886399e-01,  2.5556221e-01,\n",
       "        1.2011016e+00, -1.3348163e+00,  6.5645236e-01, -4.3624268e-01,\n",
       "       -1.6312376e-01, -1.3265961e+00, -5.2336851e-01,  8.9072415e-02,\n",
       "        2.6840946e-01, -7.3588173e-01,  2.1052890e-02,  1.0858134e+00,\n",
       "        1.3769660e+00,  2.2286755e-01, -2.6393641e-01,  8.5602427e-01,\n",
       "        5.9288907e-01,  1.2567347e-01,  5.9362548e-02,  7.0946044e-01,\n",
       "       -1.2957745e+00, -5.6683559e-01,  1.1375865e+00, -5.7018299e-01,\n",
       "       -8.7783572e-01, -4.4508087e-01,  9.9237897e-01,  1.1221584e+00,\n",
       "        8.8568848e-01, -1.2821387e+00,  1.2828436e+00, -3.6170943e-02,\n",
       "       -3.2354759e-01, -1.1134345e+00,  3.5064973e-01, -6.6320461e-02,\n",
       "        5.3717191e-01,  6.2892969e-01, -1.0956267e+00, -6.7087982e-01,\n",
       "       -9.2572832e-02, -1.3792203e+00, -3.3966771e-01,  9.5723441e-01,\n",
       "        3.9720502e-01, -8.7409718e-01, -8.0142058e-02,  1.0860043e-01,\n",
       "        2.0271569e-02,  1.7328318e-01, -1.5402161e-01,  5.1776489e-01,\n",
       "        5.2261985e-01, -8.8233779e-01,  2.3412464e-02, -2.7261001e-01,\n",
       "        1.2797281e-02,  7.3103704e-02,  2.8668213e-02,  5.1237536e-01,\n",
       "       -1.8251485e-01,  1.5079862e+00, -7.0844808e-01, -1.5299621e+00,\n",
       "       -3.1987590e-01,  7.0803950e-02,  3.7330923e-01, -4.4714985e-01,\n",
       "       -3.4555353e-01,  4.9575869e-02, -2.2700774e-01,  5.6147772e-01,\n",
       "        1.6086107e+00, -1.2667837e-01,  2.4656377e-01,  1.9273477e+00,\n",
       "       -9.9698238e-01,  2.8228062e-01,  1.7067700e+00, -8.6650971e-01,\n",
       "        7.0333943e-01,  4.1017480e-01,  6.4273356e-02, -3.0987605e+00,\n",
       "       -5.6665344e-01,  2.8044111e-01,  5.8705980e-02, -7.4330099e-01,\n",
       "        8.8835201e-01,  6.7932449e-01, -9.9771895e-01,  1.5676599e+00,\n",
       "        2.5583766e-01, -6.8359892e-01, -1.9376614e+00,  3.4293124e-01,\n",
       "        1.4120425e+00,  2.0156442e-01,  5.4122236e-01, -7.6702105e-01,\n",
       "        2.5781464e-01, -2.5451589e-01, -1.1987994e+00, -8.1661897e-01,\n",
       "       -5.1825260e-01,  1.7773187e+00,  1.0683590e+00, -7.3335736e-01,\n",
       "        4.3392561e-01, -4.9607405e-01, -8.4942018e-01,  8.2461344e-01,\n",
       "       -4.3126163e-01,  7.2981292e-01,  1.7122678e+00, -1.6750323e+00,\n",
       "       -1.1906761e+00, -2.5915772e+00,  8.7786648e-01,  6.7834453e-01,\n",
       "        1.4724416e-01,  2.4983727e+00,  1.1930591e+00, -5.5756942e-01,\n",
       "       -9.4873456e-01, -6.5392644e-01, -1.5316061e+00, -1.1105727e+00,\n",
       "        3.0546886e-01, -9.9365967e-02, -1.3024889e+00,  8.9860719e-01,\n",
       "       -2.2494758e-01, -7.2729124e-01,  4.3364859e-03, -4.7361545e-01,\n",
       "        2.2447656e+00,  7.9196527e-01, -7.7456686e-01,  1.4167247e+00,\n",
       "       -1.2799603e+00,  4.3473367e-01,  6.3880928e-03,  5.6024340e-01,\n",
       "       -1.4055014e-01, -2.1358277e-01, -1.0082899e+00, -3.7387553e-01,\n",
       "       -1.4304000e-01, -1.2218681e+00, -9.8340684e-01,  9.6691212e-01,\n",
       "        9.8059127e-01, -3.0462629e-01,  5.5663790e-01,  4.7194554e-01,\n",
       "       -1.6319317e+00, -3.1857441e+00,  1.2147992e-01,  5.9867666e-02,\n",
       "       -6.5752422e-01, -8.8862206e-01, -9.2152956e-02, -9.7011605e-01,\n",
       "        1.0848773e+00,  1.5657662e+00, -2.3505200e-02,  2.3940519e-01,\n",
       "       -9.9073377e-02,  7.9365005e-01, -4.0945411e-01, -2.0247543e-01,\n",
       "       -3.2314413e-01,  1.7640253e+00, -1.2886846e+00, -7.8739866e-01,\n",
       "       -8.6323681e-01,  2.4299188e-01,  3.2164547e-01,  1.0915039e+00,\n",
       "        6.6284295e-01, -1.1993140e+00, -7.2828816e-01, -1.1317911e+00,\n",
       "       -3.6570900e-01,  1.1653300e-01, -1.6487763e+00, -4.3882952e-01,\n",
       "       -1.5010274e-01,  1.1741946e+00, -4.3850557e-02, -2.1390731e-01,\n",
       "       -7.3659822e-01, -1.1645511e+00,  3.9828971e-02, -6.5156871e-01,\n",
       "       -5.4245699e-01, -3.0703307e-01, -3.6346908e-01,  7.1900753e-01,\n",
       "        1.5639934e-01, -5.0044683e-01,  7.6905905e-01, -6.7026814e-01,\n",
       "        1.3023545e+00, -2.4415219e-01, -2.1589286e-01, -3.0349353e-01,\n",
       "        1.0913227e-01, -1.3183923e+00,  1.0818978e-01, -2.9298603e-02,\n",
       "        7.6674626e-01,  1.2846867e-01,  5.5943367e-01,  5.7387838e-01,\n",
       "        6.9324471e-01,  2.7276437e-01,  5.9952211e-01,  4.3893398e-01,\n",
       "        3.9538297e-01,  1.6081215e-02, -3.7104070e-01,  2.1920471e-02,\n",
       "        7.9021068e-01,  3.4763297e-01, -1.1728282e+00,  1.3882848e+00,\n",
       "        8.0534521e-01,  8.1203955e-01, -1.5904029e+00,  7.9816047e-01,\n",
       "        6.0341459e-01, -3.0454424e-01,  4.4462988e-01,  9.2030588e-01,\n",
       "        7.7851693e-01, -1.9922276e-01, -7.6874158e-01,  2.7473872e-01,\n",
       "       -2.6733844e+00, -5.2265465e-02,  3.8470763e-01, -4.4547140e-01,\n",
       "        8.8705530e-01, -1.2450079e+00, -1.9551688e+00, -3.0271076e-01,\n",
       "       -1.7348405e-01, -2.6231468e-01,  3.9021818e-01,  8.1484222e-02,\n",
       "        2.0433889e+00, -3.5462834e-01,  6.6123576e-01,  1.7791511e+00,\n",
       "       -2.7180296e+00, -4.1578642e-01,  2.0045245e-01, -6.6904722e-01,\n",
       "        5.3252740e-01, -1.0169664e+00, -1.5600218e+00,  2.5781571e-01,\n",
       "       -3.1890902e-01, -6.8932242e-01, -1.5363042e+00,  1.1193736e-01,\n",
       "       -1.8612567e-01,  2.1634139e+00, -6.2191020e-02, -1.5864796e+00,\n",
       "        1.1364132e+00,  1.9765361e+00,  1.5867030e-01,  1.0730438e+00,\n",
       "        9.0530927e-01, -1.1296296e-01,  3.2659717e-01, -1.4471440e+00,\n",
       "       -5.7769625e-01, -1.7335847e+00,  1.9803383e+00, -5.2841725e-02,\n",
       "       -1.7420125e+00,  5.8519263e-01,  2.1197631e-01, -4.6122126e-01,\n",
       "        2.4880326e+00, -9.9120446e-01, -1.3458154e-01,  1.3259017e-01,\n",
       "       -1.8448826e+00, -5.9573903e-01, -1.0542005e+00, -2.8018887e-01,\n",
       "        2.5838954e-01, -1.0027294e+00,  5.2129889e-01, -3.4785562e-01,\n",
       "       -1.0915198e+00, -5.1417815e-02, -9.6022832e-01,  6.0643814e-01,\n",
       "       -1.2624946e+00,  1.3805446e+00, -1.6569793e+00, -4.7031867e-01,\n",
       "       -4.7221715e-01,  6.4154079e-01,  2.5201403e+00,  1.4881882e-01,\n",
       "       -9.8817774e-01, -1.2860632e+00, -3.2577071e-01,  2.0048444e+00,\n",
       "        2.0002351e+00, -9.6066170e-01,  2.2835434e-01,  2.2271105e+00,\n",
       "       -4.3213706e-01, -6.7174782e-01,  1.5192139e-01,  2.4885849e-01,\n",
       "       -4.4966301e-01,  5.3871504e-01,  3.8845119e-01,  1.2447101e+00,\n",
       "       -1.9549973e+00, -8.6244463e-01, -1.2888187e+00,  1.3783230e-02,\n",
       "        1.0652451e+00, -1.0487949e+00,  7.3168152e-01, -5.1902476e-01,\n",
       "        1.6739111e+00,  2.9967913e-02, -1.4378715e+00,  2.3716019e-01,\n",
       "        5.4149789e-01,  5.1963128e-01, -1.6758083e+00, -4.1421624e-01,\n",
       "       -6.3442060e-03,  1.0523655e+00,  1.3337819e-01,  2.6638024e-01,\n",
       "       -1.6958571e-01,  1.4817110e-01,  9.1530621e-01,  4.9201494e-02,\n",
       "        3.4035236e-01, -1.7213556e+00, -4.2903701e-01, -7.0464553e-01,\n",
       "        2.8202689e-01, -1.0042033e+00, -1.3369199e+00,  5.0838112e-01,\n",
       "        1.0813180e+00,  2.3260500e+00, -5.9806762e-01, -9.9019015e-01,\n",
       "       -4.5402234e-01, -5.3368799e-01, -1.5889839e-01,  3.8289729e-01,\n",
       "       -4.7540528e-02, -2.3820709e-01,  1.4353344e+00, -4.6528641e-01,\n",
       "        8.1132119e-01, -3.1923319e-01, -1.9226852e+00, -9.7625149e-01,\n",
       "        6.0837657e-01,  8.4810853e-01,  4.1605046e-02,  2.1318731e+00,\n",
       "        3.2388113e-01, -7.3509898e-01,  1.4139286e+00, -1.2992514e+00,\n",
       "       -1.6710245e-01, -4.4809147e-01, -1.0339988e+00,  3.2767393e-01,\n",
       "        7.5245298e-01, -1.5157345e-01,  2.6202846e-01,  1.1840895e-01,\n",
       "       -2.4049197e+00, -1.2067071e+00,  1.3851726e+00,  1.6617933e+00,\n",
       "       -6.5119046e-01,  1.1846484e+00,  1.2668223e+00, -6.3821971e-01,\n",
       "        2.4829823e-01, -2.1550471e-01,  4.6012153e-01,  1.5890783e-01,\n",
       "        3.6339545e-01,  2.5737168e-02, -1.1111966e+00, -2.2400325e+00,\n",
       "        4.9135329e-02,  1.6531512e+00,  8.7152092e-01, -4.8224954e-02,\n",
       "       -6.1916279e-02,  2.2777990e-01, -6.4442199e-01,  4.0277735e-01,\n",
       "        2.6940861e-01, -5.2857546e-01, -2.2466400e-01, -6.7945082e-01,\n",
       "        6.9079440e-01,  1.8150439e-01,  3.1407344e-01,  5.8850538e-01,\n",
       "       -5.9933321e-01, -4.4153303e-01, -1.1667018e+00,  2.2514767e+00,\n",
       "       -1.5917310e+00,  2.2095924e-02, -3.1069879e-01, -6.3016458e-01,\n",
       "       -7.9693411e-01, -3.1213345e-01,  6.6540800e-01,  1.3536016e+00,\n",
       "        1.1952882e+00,  9.7120961e-01,  1.4391494e+00,  5.4287382e-01,\n",
       "        8.5332392e-01,  1.4541098e-01,  6.7521517e-01,  9.2139462e-01,\n",
       "       -1.1374812e+00, -6.2354687e-01, -1.1170996e+00,  2.1776995e+00,\n",
       "        4.2792988e-01,  3.1337384e-01,  1.7339811e-01, -4.7240807e-01,\n",
       "       -2.5546991e+00, -2.6928734e-02, -1.1499999e+00,  7.1806911e-02,\n",
       "        5.4888530e-01,  1.0647287e+00, -6.2145999e-01, -3.3696771e-03,\n",
       "        1.6280839e-01, -9.9543347e-01, -1.3501959e+00, -7.6573955e-02,\n",
       "        1.1241254e+00,  1.0712406e+00,  6.0671753e-01,  1.8734245e-02,\n",
       "        1.0956789e+00, -2.1537819e-01, -4.3862538e-01, -2.1940696e+00,\n",
       "       -9.8106600e-01, -1.2405245e-01,  2.1568770e+00, -1.7902370e+00,\n",
       "        4.1250803e-02, -1.0534203e+00, -2.5804215e+00, -1.1376971e+00,\n",
       "       -5.4074243e-01,  5.4347845e-01,  3.3754187e-01, -1.7818997e+00,\n",
       "       -1.5073606e+00,  7.2243905e-01, -4.6279625e-01, -8.8885221e-01,\n",
       "       -8.1588718e-01,  5.8500167e-01, -3.9201511e-01,  8.4144402e-01,\n",
       "       -7.2202597e-01,  1.3349423e+00,  2.7224172e-01, -3.1555984e-01,\n",
       "        3.4574905e-01,  8.5671498e-02,  8.0984755e-01,  1.4968370e+00,\n",
       "        2.2615751e+00, -2.7990341e-01, -2.9657927e-01, -1.6838908e+00,\n",
       "       -1.4740985e+00,  7.6843872e-01, -3.8936488e-01, -1.9377141e+00,\n",
       "        1.4167854e-01,  1.2747381e+00,  1.9139419e+00, -1.3452709e+00,\n",
       "       -7.4462399e-01, -1.1564286e+00, -6.4044616e-01,  1.9441499e-01,\n",
       "        2.6830854e-01, -1.3331870e+00, -1.3244918e-01,  9.1653361e-01,\n",
       "       -1.9931520e-01,  1.1689190e+00,  1.0677345e+00, -1.0645300e-01,\n",
       "        5.6198673e-01,  3.0036619e-02, -1.7660102e+00, -1.2627527e+00,\n",
       "       -4.7874336e-01, -5.2222603e-01,  1.2848349e-01,  2.0048335e+00,\n",
       "        4.3035975e-01, -1.4555219e+00, -1.3675469e+00,  2.3869264e-01,\n",
       "       -9.8503866e-01, -2.2920953e-01, -3.2577385e-01, -2.2150973e+00,\n",
       "        6.7787515e-02,  1.0377647e+00,  1.7775636e+00, -1.1046201e+00,\n",
       "       -2.1637040e+00, -1.1014885e+00,  1.0879783e+00, -8.0093716e-02,\n",
       "       -8.9009221e-01, -1.0420340e+00, -2.1869746e+00,  1.6772112e-01,\n",
       "       -2.0009361e+00,  1.2358478e+00, -9.6692289e-01, -1.0631950e+00,\n",
       "       -3.3400470e-01,  2.4360207e-01, -1.3993919e+00,  3.6936309e-01,\n",
       "        4.4353643e-02,  5.4726158e-01,  1.0228041e+00, -9.7839012e-02,\n",
       "        1.6387438e+00,  1.0492951e+00,  8.4208659e-02, -8.0746787e-01,\n",
       "        2.0639982e+00,  1.3963150e+00,  4.3569506e-01,  3.1805718e-01,\n",
       "        9.8148520e-01, -6.8027090e-01,  5.9595049e-01,  6.4802243e-01,\n",
       "        1.6734159e+00, -1.3143865e+00,  7.4129978e-01, -3.9700000e-01,\n",
       "       -1.4801974e-01,  5.6455374e-01, -5.7820956e-01, -1.6777387e-01,\n",
       "       -1.9744117e-01,  1.2628208e+00,  1.0040968e+00,  7.7399426e-02,\n",
       "       -3.6197090e-01,  1.2611179e+00, -5.0147034e-01, -3.7032707e-01,\n",
       "       -8.9654865e-01,  2.3443884e+00,  7.7410707e-01, -9.4151030e-01,\n",
       "       -1.7666710e-01,  2.5823953e-01, -8.3294253e-01, -4.0037974e-01,\n",
       "       -1.4888683e+00, -3.5606695e-02, -6.3863042e-01,  1.4348662e+00,\n",
       "       -2.9188369e+00,  1.3834944e+00,  8.9309186e-01, -2.7230824e-01,\n",
       "        6.3862422e-01,  1.2802698e-01,  5.7204720e-01,  1.5632694e+00,\n",
       "        6.5811704e-01,  3.9862966e-01,  2.4007357e-01,  1.6182814e+00,\n",
       "        1.4637923e+00,  1.4041127e+00,  7.6314912e-01, -4.1696919e-01,\n",
       "        5.8909523e-01,  1.4298863e+00,  1.6464186e-01,  1.2313924e+00,\n",
       "        1.6512364e+00,  2.0405530e+00, -5.4705774e-01, -2.4584146e-01,\n",
       "        1.5387509e+00, -7.6827332e-01,  1.2905770e+00,  2.2388384e-01,\n",
       "        2.0463640e-01, -2.8669968e-01, -1.0236051e-01,  3.9263210e+00,\n",
       "        8.9033189e-01, -6.0277663e-01, -4.1432647e-01,  9.6669792e-01,\n",
       "       -7.6069807e-01, -7.8258532e-02, -3.7686217e-01, -6.9273445e-01,\n",
       "        5.2719846e-01,  5.0733218e-01,  2.9435105e-01, -6.9016691e-02,\n",
       "       -6.3578530e-01,  9.4155496e-01,  2.9548551e-01, -7.4928361e-01,\n",
       "        1.0841673e+00,  4.4523792e-01, -4.7301739e-01, -1.1350749e+00,\n",
       "        4.6095020e-02, -3.2685553e-01,  9.2658674e-01,  3.7734974e-01,\n",
       "       -1.5445404e-01,  5.8674835e-02, -8.0026290e-01, -1.8318133e+00,\n",
       "       -7.6277393e-01,  2.0178201e+00, -5.7918916e-01, -2.1756566e+00,\n",
       "        5.1513167e-01, -1.1617094e+00,  7.9604898e-01,  6.9225032e-01,\n",
       "        1.3754860e+00,  1.6349821e+00,  4.5304613e-01,  2.4610969e-01,\n",
       "       -5.2855325e-01, -1.5336472e-01, -1.1084484e-01, -9.7853322e-01,\n",
       "       -4.3581872e-01, -9.2549759e-01, -4.7843116e-01,  1.0509067e+00,\n",
       "        8.9335633e-02, -3.5384695e-01, -1.8691280e+00,  1.0295815e+00,\n",
       "       -6.2990753e-02, -7.8203700e-02, -1.1155901e-01,  8.5887651e-01,\n",
       "        5.2962236e-01,  2.4376224e-01, -2.1256128e-01, -1.8244076e+00,\n",
       "        8.8400237e-01, -4.3906844e-01, -3.1427353e-01,  7.0511155e-01,\n",
       "        4.3352645e-01, -8.3733973e-01, -1.0033341e+00,  4.6966060e-01,\n",
       "        1.2975985e+00,  1.9992888e+00,  1.0360168e+00, -1.4046311e+00,\n",
       "       -1.6632532e+00,  1.0799769e+00, -1.1403924e+00,  3.3179725e-01,\n",
       "        7.6652352e-01,  1.6627703e+00, -2.5939778e+00, -5.5649461e-01,\n",
       "        8.1797538e-01, -1.4172989e+00,  1.2234127e+00,  1.6536510e+00,\n",
       "        5.5204937e-01, -1.0494116e+00, -9.1176437e-01,  1.3621251e+00,\n",
       "        1.2559648e+00,  1.3743347e+00,  1.5974878e-01, -1.1689293e+00,\n",
       "        1.4916768e+00,  7.5916130e-01,  1.1362814e+00, -1.9882039e+00,\n",
       "        6.7383977e-01, -1.9560211e-01, -1.9209738e+00,  1.2209237e+00,\n",
       "        4.2155503e-02,  9.3076752e-01,  9.7709753e-01,  3.9019740e-01,\n",
       "       -7.6906452e-01,  1.0039061e+00, -1.4446484e+00,  2.3191013e-01,\n",
       "       -7.2668167e-01, -1.1508163e+00,  8.0650633e-01,  2.5268177e+00,\n",
       "       -7.9480795e-01,  1.2474307e+00, -6.8507576e-01, -1.7254390e-01,\n",
       "       -9.2867481e-02,  2.1787176e-01, -9.1125399e-01, -8.0508916e-01,\n",
       "       -8.2988995e-01, -6.4242055e-01, -1.3932142e+00, -8.9047680e-01,\n",
       "        4.0432423e-01,  8.3982054e-02, -3.1990962e-01,  9.7493418e-01,\n",
       "        2.1248737e+00, -3.3899196e-01, -9.6932135e-01, -7.5409776e-01,\n",
       "       -1.7492860e+00,  1.1912215e+00,  1.2098273e+00,  9.2480318e-01,\n",
       "        1.2560859e+00,  4.5414221e-01,  1.4986862e-01, -2.5314307e-01,\n",
       "        4.8906826e-01, -1.1855532e+00,  2.1884655e+00,  1.3341877e+00,\n",
       "       -6.1244501e-02, -1.0683432e-01,  1.6195829e+00, -7.0543955e-01,\n",
       "        1.9829063e-01,  9.7966310e-01, -1.0438607e+00,  8.0857207e-01,\n",
       "       -5.3190124e-01, -5.4960812e-01,  8.2780957e-01, -9.7582375e-01,\n",
       "        1.6969808e+00,  1.9765916e+00, -8.1881858e-01,  9.0498296e-01,\n",
       "       -7.5138325e-01, -4.9244195e-01,  1.0562173e+00, -5.1187432e-01,\n",
       "       -6.9183767e-03,  1.8179780e-01, -3.2042710e-01,  4.3157495e-01,\n",
       "        1.2735755e+00, -6.3729475e-01,  1.4013972e+00, -2.5013086e-01,\n",
       "       -1.5815800e-01, -1.5395949e+00,  9.8410848e-01, -6.8455642e-01,\n",
       "        1.4805464e-01,  2.1592018e+00, -7.2614574e-01, -1.3228532e+00,\n",
       "        8.7027288e-01,  2.2005187e-01,  6.8028834e-01,  1.5515406e+00,\n",
       "       -8.7015451e-01, -6.2125114e-01, -1.1881477e+00, -2.2572614e-01,\n",
       "       -9.4524897e-02, -8.5858843e-01, -8.3176206e-01, -1.2112544e+00,\n",
       "        6.4380794e-01, -2.2919399e-01,  1.5007249e+00,  1.0724413e+00,\n",
       "        4.9401813e-01,  1.1952529e+00,  2.6920379e+00, -1.6919601e+00,\n",
       "       -1.0577704e+00,  3.6264914e-01, -1.1842153e+00,  3.8990196e-01,\n",
       "        2.4020542e+00, -9.5748759e-01, -6.6827219e-01, -2.9199332e-01,\n",
       "        4.1404416e-01,  6.8909610e-01,  5.6356807e-01,  1.8826800e+00,\n",
       "        1.4072990e-01,  9.7095978e-01,  1.8369998e-02,  1.4923243e+00,\n",
       "        2.6041892e-01, -3.6903348e-01, -5.6998540e-01,  1.6108628e+00,\n",
       "        6.8786420e-01,  1.5296516e-01, -1.7279250e+00, -8.6597473e-01,\n",
       "        5.2943739e-01,  7.5731389e-01,  1.0309028e-01,  5.2734505e-01,\n",
       "       -1.9840975e+00,  2.8793795e-01, -1.1175492e+00,  4.0085785e-01,\n",
       "        1.8842812e-01, -5.5940958e-01,  7.2573369e-02, -1.3070605e+00,\n",
       "       -6.0763725e-01, -1.3578851e+00,  1.6441076e+00, -1.4353665e+00,\n",
       "        6.5169358e-01,  1.6051766e+00,  8.8037178e-01,  1.7938287e+00,\n",
       "       -1.3902663e+00,  1.4855253e+00, -8.0960749e-01, -1.9435956e-01,\n",
       "        5.6790416e-01, -1.4997788e+00,  8.1547354e-01,  3.7344702e-01,\n",
       "        1.4174904e+00, -1.9829480e+00,  4.3744618e-02,  1.2786294e+00,\n",
       "       -6.8654757e-01,  1.0477516e+00, -3.6626210e-01,  6.2956716e-01,\n",
       "       -1.5140067e-01, -6.0228062e-01, -6.5000502e-01, -5.1736484e-01,\n",
       "        1.1279012e+00, -1.2181149e+00,  2.5430801e-01,  1.0365762e+00,\n",
       "       -2.1542259e-01,  4.5017208e-01,  3.4146746e-01,  5.8793621e-01,\n",
       "       -1.4606671e+00, -8.2317949e-01, -1.9919535e-02,  1.6015299e+00,\n",
       "       -1.1871355e+00,  2.4893646e-01, -1.1080561e+00,  5.3751419e-01,\n",
       "        5.8478056e-01, -7.9286814e-01,  2.1791216e-01,  1.4233480e+00,\n",
       "        1.6341040e+00, -1.1193741e+00, -8.0868169e-01, -2.2157684e-01,\n",
       "        8.0160133e-02,  1.7894420e+00, -6.7661893e-01, -1.9051549e-01,\n",
       "        2.7786899e-01,  8.8723776e-01, -1.2080192e+00, -6.6743941e-01,\n",
       "        1.0607889e+00,  1.0820887e-01,  1.4645770e+00, -2.2153812e-01,\n",
       "       -3.3944483e-01,  6.1151761e-01,  1.5290384e-01, -1.5786376e-01,\n",
       "        2.9468148e-01, -1.0568424e+00, -8.1653898e-02,  4.9499854e-01])"
      ]
     },
     "execution_count": 20,
     "metadata": {},
     "output_type": "execute_result"
    }
   ],
   "source": [
    "tt"
   ]
  },
  {
   "cell_type": "code",
   "execution_count": 21,
   "metadata": {},
   "outputs": [
    {
     "data": {
      "text/plain": [
       "0.69133563"
      ]
     },
     "execution_count": 21,
     "metadata": {},
     "output_type": "execute_result"
    }
   ],
   "source": [
    "tt[0]"
   ]
  },
  {
   "cell_type": "code",
   "execution_count": null,
   "metadata": {},
   "outputs": [],
   "source": []
  }
 ],
 "metadata": {
  "kernelspec": {
   "display_name": "Python 3",
   "language": "python",
   "name": "python3"
  },
  "language_info": {
   "codemirror_mode": {
    "name": "ipython",
    "version": 3
   },
   "file_extension": ".py",
   "mimetype": "text/x-python",
   "name": "python",
   "nbconvert_exporter": "python",
   "pygments_lexer": "ipython3",
   "version": "3.6.4"
  }
 },
 "nbformat": 4,
 "nbformat_minor": 2
}
